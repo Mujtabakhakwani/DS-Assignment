{
 "cells": [
  {
   "cell_type": "code",
   "execution_count": 7,
   "id": "53b47724-61c8-4c0a-a48b-6e44b3cc8342",
   "metadata": {},
   "outputs": [],
   "source": [
    "from pyspark.sql import SparkSession\n",
    "\n",
    "# Initialize Spark Session\n",
    "spark = SparkSession.builder.appName(\"Netflix Data Analysis\").getOrCreate()\n"
   ]
  },
  {
   "cell_type": "code",
   "execution_count": 8,
   "id": "fda40a04-1e3d-4064-b791-09bcd85726cf",
   "metadata": {},
   "outputs": [],
   "source": [
    "# Load Dataset\n",
    "file_location = 'netflix_titles.csv'\n",
    "netflix_data = spark.read.csv(file_location, header=True, inferSchema=True)\n"
   ]
  },
  {
   "cell_type": "code",
   "execution_count": 9,
   "id": "db0b1fa0-5aeb-4bd7-b0d0-e0428bf6ed0d",
   "metadata": {},
   "outputs": [
    {
     "name": "stdout",
     "output_type": "stream",
     "text": [
      "1. Dataset Overview:\n",
      "root\n",
      " |-- show_id: string (nullable = true)\n",
      " |-- type: string (nullable = true)\n",
      " |-- title: string (nullable = true)\n",
      " |-- director: string (nullable = true)\n",
      " |-- cast: string (nullable = true)\n",
      " |-- country: string (nullable = true)\n",
      " |-- date_added: string (nullable = true)\n",
      " |-- release_year: string (nullable = true)\n",
      " |-- rating: string (nullable = true)\n",
      " |-- duration: string (nullable = true)\n",
      " |-- listed_in: string (nullable = true)\n",
      " |-- description: string (nullable = true)\n",
      "\n",
      "\n",
      "Total Records: 8809\n"
     ]
    }
   ],
   "source": [
    "# Dataset Overview\n",
    "print(\"1. Dataset Overview:\")\n",
    "netflix_data.printSchema()\n",
    "print(f\"\\nTotal Records: {netflix_data.count()}\")\n"
   ]
  },
  {
   "cell_type": "code",
   "execution_count": 10,
   "id": "7bbf62f9-c392-4065-8ac2-206c5e8dc216",
   "metadata": {},
   "outputs": [
    {
     "name": "stdout",
     "output_type": "stream",
     "text": [
      "\n",
      "2. Most Prolific Directors:\n",
      "+--------------------+------------+\n",
      "|            director|total_titles|\n",
      "+--------------------+------------+\n",
      "|                NULL|        2636|\n",
      "|       Rajiv Chilaka|          19|\n",
      "|Raúl Campos, Jan ...|          18|\n",
      "|        Marcus Raboy|          16|\n",
      "|         Suhas Kadav|          16|\n",
      "|           Jay Karas|          14|\n",
      "| Cathy Garcia-Molina|          13|\n",
      "|     Youssef Chahine|          12|\n",
      "|     Martin Scorsese|          12|\n",
      "|         Jay Chapman|          12|\n",
      "+--------------------+------------+\n",
      "\n"
     ]
    }
   ],
   "source": [
    "from pyspark.sql.functions import col, count, desc\n",
    "\n",
    "# Most Prolific Directors\n",
    "print(\"\\n2. Most Prolific Directors:\")\n",
    "prolific_directors = netflix_data.groupBy(\"director\") \\\n",
    "    .agg(count(\"*\").alias(\"total_titles\")) \\\n",
    "    .orderBy(desc(\"total_titles\")) \\\n",
    "    .limit(10)\n",
    "prolific_directors.show()\n"
   ]
  },
  {
   "cell_type": "code",
   "execution_count": 11,
   "id": "9167615c-c127-40c9-bede-f1befa87e69e",
   "metadata": {},
   "outputs": [
    {
     "name": "stdout",
     "output_type": "stream",
     "text": [
      "\n",
      "3. Average Release Year by Content Type:\n",
      "+-------------+--------------------+\n",
      "|         type|average_release_year|\n",
      "+-------------+--------------------+\n",
      "|         NULL|                NULL|\n",
      "|        Movie|  2013.1326463853452|\n",
      "|      TV Show|  2016.6071829405162|\n",
      "|William Wyler|                NULL|\n",
      "+-------------+--------------------+\n",
      "\n"
     ]
    }
   ],
   "source": [
    "from pyspark.sql.functions import avg\n",
    "\n",
    "# Average Release Year by Content Type\n",
    "print(\"\\n3. Average Release Year by Content Type:\")\n",
    "avg_year_by_type = netflix_data.groupBy(\"type\") \\\n",
    "    .agg(avg(\"release_year\").alias(\"average_release_year\")) \\\n",
    "    .orderBy(\"type\")\n",
    "avg_year_by_type.show()\n"
   ]
  },
  {
   "cell_type": "code",
   "execution_count": 12,
   "id": "938a3a3b-cc56-41ce-8735-95dac8505d64",
   "metadata": {},
   "outputs": [
    {
     "name": "stdout",
     "output_type": "stream",
     "text": [
      "\n",
      "4. Content Duration Analysis:\n",
      "+-------------+------------------+----------------+----------------+\n",
      "|         type|  average_duration|maximum_duration|minimum_duration|\n",
      "+-------------+------------------+----------------+----------------+\n",
      "|         NULL|              NULL|            NULL|            NULL|\n",
      "|      TV Show|1.7654320987654322|              17|               1|\n",
      "|        Movie| 99.88907068062828|            1994|               3|\n",
      "|William Wyler|              NULL|            NULL|            NULL|\n",
      "+-------------+------------------+----------------+----------------+\n",
      "\n"
     ]
    }
   ],
   "source": [
    "from pyspark.sql.functions import split, max, min\n",
    "\n",
    "# Content Duration Analysis\n",
    "print(\"\\n4. Content Duration Analysis:\")\n",
    "duration_analysis = netflix_data \\\n",
    "    .withColumn(\"duration_value\", split(col(\"duration\"), \" \")[0].cast(\"int\")) \\\n",
    "    .groupBy(\"type\") \\\n",
    "    .agg(avg(\"duration_value\").alias(\"average_duration\"), \n",
    "         max(\"duration_value\").alias(\"maximum_duration\"), \n",
    "         min(\"duration_value\").alias(\"minimum_duration\"))\n",
    "duration_analysis.show()\n"
   ]
  },
  {
   "cell_type": "code",
   "execution_count": 13,
   "id": "20f08d6e-d358-4049-b3d7-712ab5351801",
   "metadata": {},
   "outputs": [
    {
     "name": "stdout",
     "output_type": "stream",
     "text": [
      "\n",
      "5. Countries with Diverse Genres:\n",
      "+--------------+------------+\n",
      "|       country|genres_count|\n",
      "+--------------+------------+\n",
      "| United States|        2805|\n",
      "|         India|         972|\n",
      "|          NULL|         830|\n",
      "|United Kingdom|         419|\n",
      "|         Japan|         245|\n",
      "|   South Korea|         199|\n",
      "|        Canada|         181|\n",
      "|         Spain|         145|\n",
      "|        France|         123|\n",
      "|        Mexico|         110|\n",
      "+--------------+------------+\n",
      "\n"
     ]
    }
   ],
   "source": [
    "# Countries with Diverse Genres\n",
    "print(\"\\n5. Countries with Diverse Genres:\")\n",
    "diverse_genres = netflix_data.groupBy(\"country\") \\\n",
    "    .agg(count(\"listed_in\").alias(\"genres_count\")) \\\n",
    "    .orderBy(desc(\"genres_count\")) \\\n",
    "    .limit(10)\n",
    "diverse_genres.show()\n"
   ]
  },
  {
   "cell_type": "code",
   "execution_count": 14,
   "id": "ef6a11ac-f52c-4016-87e4-bf3ec76bc7f3",
   "metadata": {},
   "outputs": [
    {
     "name": "stdout",
     "output_type": "stream",
     "text": [
      "\n",
      "6. Longest Titles in Terms of Word Count:\n",
      "+--------------------+------------+\n",
      "|               title|title_length|\n",
      "+--------------------+------------+\n",
      "|Jim & Andy: The G...|         104|\n",
      "|Ken Burns Present...|          93|\n",
      "|Mike Birbiglia: W...|          88|\n",
      "|The Power of Gray...|          88|\n",
      "|Steve Martin and ...|          83|\n",
      "|Cultivating the S...|          79|\n",
      "|Power Rangers Sam...|          78|\n",
      "|Willy and the Gua...|          77|\n",
      "|Ya no estoy aquí:...|          76|\n",
      "|The Road to El Ca...|          75|\n",
      "+--------------------+------------+\n",
      "\n"
     ]
    }
   ],
   "source": [
    "from pyspark.sql.functions import length\n",
    "\n",
    "# Longest Titles in Terms of Word Count\n",
    "print(\"\\n6. Longest Titles in Terms of Word Count:\")\n",
    "longest_titles = netflix_data \\\n",
    "    .withColumn(\"title_length\", length(col(\"title\"))) \\\n",
    "    .orderBy(desc(\"title_length\")) \\\n",
    "    .select(\"title\", \"title_length\") \\\n",
    "    .limit(10)\n",
    "longest_titles.show()\n"
   ]
  },
  {
   "cell_type": "code",
   "execution_count": 15,
   "id": "d5ca1eba-0962-4d1b-be52-e7307c871d3b",
   "metadata": {},
   "outputs": [
    {
     "name": "stdout",
     "output_type": "stream",
     "text": [
      "\n",
      "7. Content Rating Distribution:\n",
      "+-----------------+-----+\n",
      "|           rating|count|\n",
      "+-----------------+-----+\n",
      "|            TV-MA| 3195|\n",
      "|            TV-14| 2158|\n",
      "|            TV-PG|  862|\n",
      "|                R|  796|\n",
      "|            PG-13|  489|\n",
      "|            TV-Y7|  334|\n",
      "|             TV-Y|  307|\n",
      "|               PG|  286|\n",
      "|             TV-G|  220|\n",
      "|               NR|   80|\n",
      "|                G|   41|\n",
      "|             NULL|    6|\n",
      "|         TV-Y7-FV|    6|\n",
      "|               UR|    3|\n",
      "|            NC-17|    3|\n",
      "|             2021|    2|\n",
      "| November 1, 2020|    1|\n",
      "| Shavidee Trotter|    1|\n",
      "|    Adriane Lenox|    1|\n",
      "|    Maury Chaykin|    1|\n",
      "+-----------------+-----+\n",
      "only showing top 20 rows\n",
      "\n"
     ]
    }
   ],
   "source": [
    "# Content Rating Distribution\n",
    "print(\"\\n7. Content Rating Distribution:\")\n",
    "ratings_distribution = netflix_data.groupBy(\"rating\") \\\n",
    "    .agg(count(\"*\").alias(\"count\")) \\\n",
    "    .orderBy(desc(\"count\"))\n",
    "ratings_distribution.show()\n"
   ]
  },
  {
   "cell_type": "code",
   "execution_count": 16,
   "id": "92b3f6b7-4c04-4c2a-842a-45a1e4bb0877",
   "metadata": {},
   "outputs": [],
   "source": [
    "# Stop Spark Session\n",
    "spark.stop()\n"
   ]
  },
  {
   "cell_type": "code",
   "execution_count": null,
   "id": "34dc66d4-c6d7-4f5d-95f0-00bf5867b452",
   "metadata": {},
   "outputs": [],
   "source": []
  }
 ],
 "metadata": {
  "kernelspec": {
   "display_name": "Python 3 (ipykernel)",
   "language": "python",
   "name": "python3"
  },
  "language_info": {
   "codemirror_mode": {
    "name": "ipython",
    "version": 3
   },
   "file_extension": ".py",
   "mimetype": "text/x-python",
   "name": "python",
   "nbconvert_exporter": "python",
   "pygments_lexer": "ipython3",
   "version": "3.11.6"
  }
 },
 "nbformat": 4,
 "nbformat_minor": 5
}
